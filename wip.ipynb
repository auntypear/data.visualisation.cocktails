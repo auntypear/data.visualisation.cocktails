{
 "cells": [
  {
   "cell_type": "markdown",
   "metadata": {},
   "source": [
    "# Import Required Libraries\n",
    "Import necessary libraries such as pandas, matplotlib, seaborn, and plotly."
   ]
  },
  {
   "cell_type": "code",
   "execution_count": null,
   "metadata": {},
   "outputs": [],
   "source": [
    "import pandas as pd\n",
    "import matplotlib.pyplot as plt\n",
    "from matplotlib.cm import get_cmap\n",
    "import seaborn as sns\n",
    "import plotly.express as px"
   ]
  },
  {
   "cell_type": "markdown",
   "metadata": {},
   "source": [
    "# Load and Clean Data\n",
    "Load the cocktail data from a CSV file and handle missing values."
   ]
  },
  {
   "cell_type": "code",
   "execution_count": null,
   "metadata": {},
   "outputs": [],
   "source": [
    "# Load the data\n",
    "df = pd.read_csv(\"cocktails.csv\", encoding=\"ISO-8859-1\")\n",
    "\n",
    "# Handle missing values by filling them with a placeholder or dropping them\n",
    "df = df.dropna(subset=['Location'])\n",
    "\n",
    "# Remove rows with no location input (empty or NaN values)\n",
    "df = df.dropna(subset=['Location'])  # Removes rows where 'Location' is NaN\n",
    "df = df[df['Location'].str.strip() != '']  # Removes rows where 'Location' is an empty string"
   ]
  },
  {
   "cell_type": "markdown",
   "metadata": {},
   "source": [
    "# Initial Visualization\n",
    "Create an initial bar plot of the number of cocktails created in each location using matplotlib."
   ]
  },
  {
   "cell_type": "code",
   "execution_count": null,
   "metadata": {},
   "outputs": [],
   "source": [
    "# Group the data by location and count the number of cocktails created in each location\n",
    "location_counts = df['Location'].value_counts()\n",
    "\n",
    "# Get a color palette\n",
    "palette = sns.color_palette('Set3', n_colors=len(location_counts))\n",
    "\n",
    "# Plot the data\n",
    "plt.figure(figsize=(10, 6))\n",
    "location_counts.plot(kind='bar', color=palette)\n",
    "\n",
    "plt.title('Number of Cocktails Created in Each Location')\n",
    "plt.xlabel('Location')\n",
    "plt.ylabel('Number of Cocktails')\n",
    "plt.xticks(rotation=45)\n",
    "plt.tight_layout()  # Ensures the layout fits well within the figure\n",
    "plt.show()"
   ]
  },
  {
   "cell_type": "markdown",
   "metadata": {},
   "source": [
    "# Improve Color Palette\n",
    "Use a more visually appealing color palette from seaborn or matplotlib."
   ]
  },
  {
   "cell_type": "code",
   "execution_count": null,
   "metadata": {},
   "outputs": [],
   "source": [
    "# Improve Color Palette\n",
    "# Use a more visually appealing color palette from seaborn or matplotlib.\n",
    "\n",
    "# Get a more visually appealing color palette\n",
    "palette = sns.color_palette('viridis', n_colors=len(location_counts))\n",
    "\n",
    "# Plot the data with the new color palette\n",
    "plt.figure(figsize=(10, 6))\n",
    "location_counts.plot(kind='bar', color=palette)\n",
    "\n",
    "plt.title('Number of Cocktails Created in Each Location')\n",
    "plt.xlabel('Location')\n",
    "plt.ylabel('Number of Cocktails')\n",
    "plt.xticks(rotation=45)\n",
    "plt.tight_layout()  # Ensures the layout fits well within the figure\n",
    "plt.show()"
   ]
  },
  {
   "cell_type": "markdown",
   "metadata": {},
   "source": [
    "# Add Data Labels\n",
    "Add data labels to the bar plot to show the exact number of cocktails for each location."
   ]
  },
  {
   "cell_type": "code",
   "execution_count": null,
   "metadata": {},
   "outputs": [],
   "source": [
    "# Add Data Labels\n",
    "\n",
    "# Plot the data with data labels\n",
    "plt.figure(figsize=(10, 6))\n",
    "bars = location_counts.plot(kind='bar', color=palette)\n",
    "\n",
    "plt.title('Number of Cocktails Created in Each Location')\n",
    "plt.xlabel('Location')\n",
    "plt.ylabel('Number of Cocktails')\n",
    "plt.xticks(rotation=45)\n",
    "\n",
    "# Add data labels\n",
    "for bar in bars.patches:\n",
    "    bars.annotate(format(bar.get_height(), '.0f'),\n",
    "                  (bar.get_x() + bar.get_width() / 2, bar.get_height()),\n",
    "                  ha='center', va='center',\n",
    "                  size=10, xytext=(0, 8),\n",
    "                  textcoords='offset points')\n",
    "\n",
    "plt.tight_layout()  # Ensures the layout fits well within the figure\n",
    "plt.show()"
   ]
  },
  {
   "cell_type": "markdown",
   "metadata": {},
   "source": [
    "# Enhance Plot Aesthetics\n",
    "Enhance the plot aesthetics by adjusting the figure size, font sizes, and adding grid lines."
   ]
  },
  {
   "cell_type": "code",
   "execution_count": null,
   "metadata": {},
   "outputs": [],
   "source": [
    "# Enhance Plot Aesthetics\n",
    "\n",
    "# Adjust the figure size, font sizes, and add grid lines\n",
    "plt.figure(figsize=(12, 8))\n",
    "bars = location_counts.plot(kind='bar', color=palette)\n",
    "\n",
    "plt.title('Number of Cocktails Created in Each Location', fontsize=16)\n",
    "plt.xlabel('Location', fontsize=14)\n",
    "plt.ylabel('Number of Cocktails', fontsize=14)\n",
    "plt.xticks(rotation=45, fontsize=12)\n",
    "plt.yticks(fontsize=12)\n",
    "plt.grid(axis='y', linestyle='--', alpha=0.7)\n",
    "\n",
    "# Add data labels\n",
    "for bar in bars.patches:\n",
    "    bars.annotate(format(bar.get_height(), '.0f'),\n",
    "                  (bar.get_x() + bar.get_width() / 2, bar.get_height()),\n",
    "                  ha='center', va='center',\n",
    "                  size=10, xytext=(0, 8),\n",
    "                  textcoords='offset points')\n",
    "\n",
    "plt.tight_layout()  # Ensures the layout fits well within the figure\n",
    "plt.show()"
   ]
  },
  {
   "cell_type": "markdown",
   "metadata": {},
   "source": [
    "# Interactive Visualization with Plotly\n",
    "Create an interactive bar plot using Plotly for better user interaction."
   ]
  },
  {
   "cell_type": "code",
   "execution_count": null,
   "metadata": {},
   "outputs": [],
   "source": [
    "import plotly.express as px\n",
    "\n",
    "# Create an interactive bar plot using Plotly\n",
    "fig = px.bar(location_counts.reset_index(), \n",
    "             x='index', \n",
    "             y='Location', \n",
    "             labels={'index': 'Location', 'Location': 'Number of Cocktails'}, \n",
    "             title='Number of Cocktails Created in Each Location',\n",
    "             color='Location',\n",
    "             color_continuous_scale='Viridis')\n",
    "\n",
    "# Update layout for better aesthetics\n",
    "fig.update_layout(\n",
    "    xaxis_title='Location',\n",
    "    yaxis_title='Number of Cocktails',\n",
    "    xaxis_tickangle=-45,\n",
    "    template='plotly_white'\n",
    ")\n",
    "\n",
    "# Show the interactive plot\n",
    "fig.show()"
   ]
  }
 ],
 "metadata": {
  "language_info": {
   "name": "python"
  }
 },
 "nbformat": 4,
 "nbformat_minor": 2
}
